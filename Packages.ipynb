{
 "cells": [
  {
   "cell_type": "markdown",
   "id": "32c5d135-46bf-4b6f-8922-facd9da4c7c0",
   "metadata": {},
   "source": [
    "# This notebook documents all the packages used in this repository"
   ]
  },
  {
   "cell_type": "markdown",
   "id": "d2ba438f-2191-4ae3-a7cb-ce5c0d3232e3",
   "metadata": {},
   "source": [
    "### Meaning of packages\n",
    "You can think of them as toolboxes, which store and organize programming tools (e.g., functions) to manage and reuse code effectively. [More information](https://www.geeksforgeeks.org/python-packages/).\n",
    "\n",
    "### Installing new packages\n",
    "Type `! pip install packagename` in a cell."
   ]
  },
  {
   "cell_type": "markdown",
   "id": "33f93d2f-f954-4ff2-ad28-4f21fc6371ed",
   "metadata": {},
   "source": [
    "**Data structure and analysis**: [pandas](https://pandas.pydata.org/)"
   ]
  },
  {
   "cell_type": "code",
   "execution_count": null,
   "id": "d484398c-8d0a-4cd0-8c2c-cdb62e933d34",
   "metadata": {},
   "outputs": [],
   "source": [
    "import pandas as pd"
   ]
  },
  {
   "cell_type": "markdown",
   "id": "79b86a76-a2c0-4a5a-bae6-2741c00d5315",
   "metadata": {},
   "source": [
    "**Basic date and time types**: [datetime](https://docs.python.org/3/library/datetime.html)"
   ]
  },
  {
   "cell_type": "code",
   "execution_count": null,
   "id": "e6f76a5d-74df-4902-bfaa-bac1d38f300c",
   "metadata": {},
   "outputs": [],
   "source": [
    "from datetime import timedelta, date"
   ]
  },
  {
   "cell_type": "markdown",
   "id": "0c961b3a-eb80-4d7c-a8fc-9990a4a65283",
   "metadata": {},
   "source": [
    "**Summarize statistics from dataframes**: [skimpy](https://pypi.org/project/skimpy/)"
   ]
  },
  {
   "cell_type": "code",
   "execution_count": null,
   "id": "29900416-cea6-42f3-b3be-1613a2b1c5d8",
   "metadata": {},
   "outputs": [],
   "source": [
    "from skimpy import skim"
   ]
  },
  {
   "cell_type": "markdown",
   "id": "028411b5-0b02-4ca5-b2ce-54db7f04d5ff",
   "metadata": {},
   "source": [
    "**Natural language processing (NLP)**: [nltk](https://www.nltk.org/)"
   ]
  },
  {
   "cell_type": "code",
   "execution_count": null,
   "id": "dbbf8b59-85e3-4037-9aa9-79bf34f1899c",
   "metadata": {},
   "outputs": [],
   "source": [
    "import nltk"
   ]
  },
  {
   "cell_type": "markdown",
   "id": "e7fc9714-a72d-4a9b-9432-1ed4abab28e5",
   "metadata": {},
   "source": [
    "**Visualization**:\n",
    "* [seaborn](https://seaborn.pydata.org/) is a Python data visualization library based on [matplotlib](https://matplotlib.org/)\n",
    "* seaborn requires minimal code and is great for quickly creating visually appealing plots, whereas matplotlib offers more customization options ([reference](https://www.newhorizons.com/resources/blog/how-to-choose-between-seaborn-vs-matplotlib#:~:text=Seaborn%20is%20great%20for%20quickly,every%20aspect%20of%20a%20plot.))"
   ]
  },
  {
   "cell_type": "code",
   "execution_count": null,
   "id": "97c251e3-d131-468f-9feb-b1594207d9c1",
   "metadata": {},
   "outputs": [],
   "source": [
    "import seaborn as sns"
   ]
  },
  {
   "cell_type": "code",
   "execution_count": null,
   "id": "8f60e927-90a7-4527-b097-b5b8472d2b7c",
   "metadata": {},
   "outputs": [],
   "source": [
    "import matplotlib.pyplot as plt"
   ]
  }
 ],
 "metadata": {
  "kernelspec": {
   "display_name": "Python 3 (ipykernel)",
   "language": "python",
   "name": "python3"
  },
  "language_info": {
   "codemirror_mode": {
    "name": "ipython",
    "version": 3
   },
   "file_extension": ".py",
   "mimetype": "text/x-python",
   "name": "python",
   "nbconvert_exporter": "python",
   "pygments_lexer": "ipython3",
   "version": "3.12.5"
  }
 },
 "nbformat": 4,
 "nbformat_minor": 5
}
